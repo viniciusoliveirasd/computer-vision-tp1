{
  "nbformat": 4,
  "nbformat_minor": 0,
  "metadata": {
    "kernelspec": {
      "display_name": "Python 3",
      "language": "python",
      "name": "python3"
    },
    "language_info": {
      "codemirror_mode": {
        "name": "ipython",
        "version": 3
      },
      "file_extension": ".py",
      "mimetype": "text/x-python",
      "name": "python",
      "nbconvert_exporter": "python",
      "pygments_lexer": "ipython3",
      "version": "3.6.7"
    },
    "colab": {
      "name": "radiometry_student.ipynb",
      "provenance": [],
      "collapsed_sections": []
    }
  },
  "cells": [
    {
      "cell_type": "markdown",
      "metadata": {
        "id": "4x05A-9PSr-d"
      },
      "source": [
        "# Part 2 : Histogram manipulation and equalisation\n",
        "\n",
        "In this part of the TP, we are going to look at histogram equalisation. First, let us load the necessary packages and redefine some helper functions. Note that in this part of TP, you can use the plt.imshow function, since we are not interested in the aliasing effects which might occur.\n",
        "\n",
        "### Your task\n",
        "\n",
        "In the lab work, you must fill in the code in the places marked FILL IN CODE, or answer the written questions directly on the notebook."
      ]
    },
    {
      "cell_type": "code",
      "metadata": {
        "id": "PFi7on-vSr-f"
      },
      "source": [
        "from matplotlib import pyplot as plt\n",
        "import numpy as np \n",
        "import imageio\n",
        "from skimage import color\n",
        "\n",
        "is_colab = True\n",
        "\n",
        "def read_image(file_name):\n",
        "    img_color = imageio.imread(file_name)\n",
        "    # NOTE : color.rgb2gray converts to the range 0 ... 1\n",
        "    img_gray = color.rgb2gray(img_color)\n",
        "    return img_gray,img_color\n",
        "    \n",
        "def write_image(img_in,file_name_out):\n",
        "    imageio.imwrite(file_name_out, np.uint8(255.0*img_in))\n",
        "    \n",
        "def display_image(img_in):\n",
        "    if (img_in.ndim == 2):\n",
        "        plt.imshow(img_in,cmap='gray')\n",
        "    elif (img_in.ndim == 3):\n",
        "        # careful, in this case we supppose the pixel values are between 0 and 255\n",
        "        plt.imshow(np.uint8(img_in))\n",
        "    else:\n",
        "        print('Error, unknown number of dimensions in image')\n",
        "    return"
      ],
      "execution_count": null,
      "outputs": []
    },
    {
      "cell_type": "code",
      "metadata": {
        "id": "5Wk1L_5CSr-g"
      },
      "source": [
        "file_dir = 'images/'\n",
        "file_name = 'boat'\n",
        "file_ext = '.png'\n",
        "\n",
        "if (is_colab == True):\n",
        "  !wget \"https://perso.telecom-paristech.fr/anewson/doc/images/boat.png\"\n",
        "  img_gray,_ = read_image(file_name+file_ext)\n",
        "else:\n",
        "  img_gray,_ = read_image(file_dir+file_name+file_ext)\n",
        "\n",
        "display_image(img_gray)\n",
        "img_gray.shape"
      ],
      "execution_count": null,
      "outputs": []
    },
    {
      "cell_type": "markdown",
      "metadata": {
        "id": "Wz7kobp4Sr-g"
      },
      "source": [
        "As you can see, this image has pretty bad contrast : it is difficult to see in it. Now, display the histogram of this image to show this (see the intro to images notebook for help)"
      ]
    },
    {
      "cell_type": "code",
      "metadata": {
        "id": "fEobFPPlSr-g"
      },
      "source": [
        "# FILL IN CODE"
      ],
      "execution_count": null,
      "outputs": []
    },
    {
      "cell_type": "markdown",
      "metadata": {
        "id": "yn6Ehj5DSr-h"
      },
      "source": [
        "You will notice that the histogram is not very well spread out over the whole range of the image. We are going to correct this in this part of the TP, by imposing a __uniform histogram__ on the image.\n",
        "\n",
        "Firstly, calculate the cumulative histogram $H$ of the image and display it (use the np.cumsum function)."
      ]
    },
    {
      "cell_type": "code",
      "metadata": {
        "id": "mwlytV1WSr-h"
      },
      "source": [
        "# FILL IN CODE"
      ],
      "execution_count": null,
      "outputs": []
    },
    {
      "cell_type": "markdown",
      "metadata": {
        "id": "j9GlPxAqSr-h"
      },
      "source": [
        "## Histogram equalisation\n",
        "\n",
        "Now, if we apply the cumulative histogram $H$ as a contrast change, then we are imposing a uniform histogram on the image (see the lesson slides). A contrast change means we do not change the order of the __values__ of the pixels. We are going to use $H$ as a type of lookup table to find the new values of the image.\n",
        "\n",
        "In practice, this can be done with the following method :\n",
        "\n",
        "- normalise the cumulative histogram such that the largest value is 1.0. This will map the final image to the interval $0, \\dots, 1$ (you will still have a discrete list of values, but floating point ones)\n",
        "- convert the image grey-levels back to the interval $\\{0, \\dots 255\\}$ as int values. This will allow us to use these values as indices in H\n",
        "- apply the cumulative histogram to the values of the image pixels\n",
        "\n",
        "Implement this algorithm now in a function ``equalize_histogram``. __Note__ In the ``np.histogram`` function, the histogram values have one less element than the histogram bins"
      ]
    },
    {
      "cell_type": "code",
      "metadata": {
        "id": "1QRqzwopSr-i"
      },
      "source": [
        "def equalize_histogram(img_in):\n",
        "    # FILL IN CODE\n",
        "    return img_equalise"
      ],
      "execution_count": null,
      "outputs": []
    },
    {
      "cell_type": "markdown",
      "metadata": {
        "id": "n2Y3_IjhSr-i"
      },
      "source": [
        "Carry out the algorithm on the input image and display the image. Is the result better ?"
      ]
    },
    {
      "cell_type": "code",
      "metadata": {
        "id": "ILBM9-fsSr-i"
      },
      "source": [
        "img_gray_equalise = equalize_histogram(img_gray)\n",
        "display_image(img_gray_equalise)"
      ],
      "execution_count": null,
      "outputs": []
    },
    {
      "cell_type": "markdown",
      "metadata": {
        "id": "z-oPkwy1Sr-j"
      },
      "source": [
        "Now, we display both the histogram and cumulative histogram of the equalised image"
      ]
    },
    {
      "cell_type": "code",
      "metadata": {
        "id": "sogN1HzGSr-j"
      },
      "source": [
        "hist_vals, hist_bins,_ = plt.hist(img_gray_equalise.flatten(), bins=np.linspace(0,1,255))\n",
        "plt.figure()\n",
        "plt.plot(hist_bins[:-1],hist_vals.cumsum())"
      ],
      "execution_count": null,
      "outputs": []
    },
    {
      "cell_type": "markdown",
      "metadata": {
        "id": "TAhJpFOHSr-j"
      },
      "source": [
        "__Questions__ Is the histogram of the equalised image perfectly uniform (flat) ? Why is this the case ?"
      ]
    },
    {
      "cell_type": "markdown",
      "metadata": {
        "id": "G1BAGT5KSr-j"
      },
      "source": [
        "__Answer__"
      ]
    },
    {
      "cell_type": "markdown",
      "metadata": {
        "id": "x4PMtWGzSr-k"
      },
      "source": [
        "### Colour images\n",
        "\n",
        "Let us try to apply our algorithm to a colour image. First, let's read the image and display it"
      ]
    },
    {
      "cell_type": "code",
      "metadata": {
        "id": "N_7W0AgKSr-k"
      },
      "source": [
        "file_dir = 'images/'\n",
        "file_name = 'alps_contrast'\n",
        "file_ext = '.png'\n",
        "\n",
        "if (is_colab == True):\n",
        "  !wget \"https://perso.telecom-paristech.fr/anewson/doc/images/alps_contrast.png\"\n",
        "  _,img_color = read_image(file_name+file_ext)\n",
        "else:\n",
        "  _,img_color = read_image(file_dir+file_name+file_ext)\n",
        "\n",
        "display_image(img_color)\n",
        "img_color.shape"
      ],
      "execution_count": null,
      "outputs": []
    },
    {
      "cell_type": "markdown",
      "metadata": {
        "id": "l21A9XIWSr-k"
      },
      "source": [
        "Now, create a function ``equalize_histogram_color`` which uses your grey-level function to carry out colour histogram equalisation in each colour channel independently, and display the output image. Careful to\n",
        "\n",
        "- normalise the input range to $0, \\dots, 1$ for each channel when processing it\n",
        "- put the output range back to $0, \\dots, 255$ when displaying.\n",
        "\n",
        "To view the result better, you can write it to a file."
      ]
    },
    {
      "cell_type": "code",
      "metadata": {
        "id": "0_jW7bsQSr-k"
      },
      "source": [
        "def equalize_histogram_color(img_color):\n",
        "    # FILL IN CODE\n",
        "    return img_color_equalized\n",
        "\n",
        "\n",
        "img_color_equalized = equalize_histogram_color(img_color)\n",
        "display_image(255.0 * img_color_equalized)\n",
        "\n",
        "write_image(img_color_equalized,file_name+'_equalised.png')"
      ],
      "execution_count": null,
      "outputs": []
    },
    {
      "cell_type": "markdown",
      "metadata": {
        "id": "mRu42LDgSr-l"
      },
      "source": [
        "__Question__ Do you think this result looks right ? What may be wrong in our approach ? What could be a solution to this ?"
      ]
    },
    {
      "cell_type": "markdown",
      "metadata": {
        "id": "mat6TZnWSr-l"
      },
      "source": [
        "__Answer__"
      ]
    },
    {
      "cell_type": "code",
      "metadata": {
        "id": "CGAJcTNxSr-l"
      },
      "source": [
        ""
      ],
      "execution_count": null,
      "outputs": []
    }
  ]
}